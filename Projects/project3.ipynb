{
 "cells": [
  {
   "cell_type": "code",
   "execution_count": 17,
   "id": "a4982e87-43ca-4c21-a5f2-9e248e18bd04",
   "metadata": {},
   "outputs": [
    {
     "name": "stdout",
     "output_type": "stream",
     "text": [
      "[102 103 104 105 106 107]\n",
      "[107 105 103]\n",
      "[104 106 108 110]\n",
      "108\n"
     ]
    },
    {
     "data": {
      "text/plain": [
       "array([101, 102, 103, 104, 105, 106, 107, 108, 109, 110])"
      ]
     },
     "execution_count": 17,
     "metadata": {},
     "output_type": "execute_result"
    }
   ],
   "source": [
    "import numpy as np\n",
    "arr = np.array([101, 102, 103, 104, 105, 106, 107, 108, 109, 110])\n",
    "print(arr[1:7])\n",
    "print(arr[6:1:-2])\n",
    "print(arr[3::2])\n",
    "print(arr[7])\n",
    "arr"
   ]
  },
  {
   "cell_type": "code",
   "execution_count": 18,
   "id": "114f4488-b156-459e-baf2-46b22341ce1f",
   "metadata": {},
   "outputs": [
    {
     "name": "stdout",
     "output_type": "stream",
     "text": [
      "[[2 2 2 3 5 8 6 8 1 4]\n",
      " [4 5 7 4 5 4 4 8 5 5]\n",
      " [3 6 3 4 5 6 6 7 6 8]\n",
      " [7 2 1 3 6 8 9 9 5 5]\n",
      " [8 1 6 2 7 2 1 2 3 8]\n",
      " [6 3 6 2 3 4 5 6 2 2]\n",
      " [9 1 3 4 5 2 3 1 6 1]\n",
      " [3 3 5 9 2 5 2 6 9 6]\n",
      " [7 3 7 8 7 7 7 1 6 6]\n",
      " [4 6 5 8 5 8 6 5 6 7]]\n"
     ]
    }
   ],
   "source": [
    "#matric 10*10\n",
    "matric = np.random.randint(1, 10, (10, 10))\n",
    "\n",
    "print(matric)\n"
   ]
  },
  {
   "cell_type": "code",
   "execution_count": 19,
   "id": "9932b059-01a7-400b-a167-df993bd53ce7",
   "metadata": {},
   "outputs": [
    {
     "name": "stdout",
     "output_type": "stream",
     "text": [
      "[[2 2 2 3]\n",
      " [4 5 7 4]\n",
      " [3 6 3 4]\n",
      " [7 2 1 3]]\n"
     ]
    }
   ],
   "source": [
    "print (matric[0:4,0:4])"
   ]
  },
  {
   "cell_type": "code",
   "execution_count": 20,
   "id": "59a69548-5022-4f88-973d-ad336fda04d6",
   "metadata": {},
   "outputs": [
    {
     "name": "stdout",
     "output_type": "stream",
     "text": [
      "[[8 6 8 1 4]\n",
      " [4 4 8 5 5]\n",
      " [6 6 7 6 8]\n",
      " [8 9 9 5 5]\n",
      " [2 1 2 3 8]]\n"
     ]
    }
   ],
   "source": [
    "print (matric[0:5,5:])"
   ]
  },
  {
   "cell_type": "code",
   "execution_count": 21,
   "id": "6d1439fd-3449-4cb2-b7dc-303de60f645b",
   "metadata": {},
   "outputs": [
    {
     "name": "stdout",
     "output_type": "stream",
     "text": [
      "[[8 1 6 2]\n",
      " [6 3 6 2]\n",
      " [9 1 3 4]\n",
      " [3 3 5 9]\n",
      " [7 3 7 8]\n",
      " [4 6 5 8]]\n"
     ]
    }
   ],
   "source": [
    "print (matric[4:,0:4])"
   ]
  },
  {
   "cell_type": "code",
   "execution_count": 22,
   "id": "55e87a2e-1425-403d-a66f-3402995bfe75",
   "metadata": {},
   "outputs": [
    {
     "name": "stdout",
     "output_type": "stream",
     "text": [
      "[[4 5 6 2 2]\n",
      " [2 3 1 6 1]\n",
      " [5 2 6 9 6]\n",
      " [7 7 1 6 6]\n",
      " [8 6 5 6 7]]\n"
     ]
    }
   ],
   "source": [
    "print (matric[5:,5:])"
   ]
  },
  {
   "cell_type": "code",
   "execution_count": 23,
   "id": "d5bfd7ad-753e-4f32-a8ec-e1ec536de99d",
   "metadata": {},
   "outputs": [
    {
     "name": "stdout",
     "output_type": "stream",
     "text": [
      "[[3 6 8]\n",
      " [2 7 2]\n",
      " [2 3 4]]\n"
     ]
    }
   ],
   "source": [
    "print (matric[3:6,3:6])"
   ]
  },
  {
   "cell_type": "code",
   "execution_count": 24,
   "id": "b3ebd7b1-5560-4379-a581-2b8c43f9cf44",
   "metadata": {},
   "outputs": [
    {
     "name": "stdout",
     "output_type": "stream",
     "text": [
      "[[875 451 208 ... 491 335 402]\n",
      " [299 878  10 ... 512 438 781]\n",
      " [165 709 715 ... 461 591 560]\n",
      " ...\n",
      " [606 375 737 ... 933 869 235]\n",
      " [577 817 118 ...  29 822  38]\n",
      " [803 209 947 ...  89 637 981]]\n"
     ]
    }
   ],
   "source": [
    "#matric 1000*1000\n",
    "matric = np.random.randint(1000, size=(1000, 1000))\n",
    "print(matric)"
   ]
  },
  {
   "cell_type": "code",
   "execution_count": null,
   "id": "685e1a23-332d-4099-90b5-4b402a457aef",
   "metadata": {},
   "outputs": [],
   "source": []
  }
 ],
 "metadata": {
  "kernelspec": {
   "display_name": "Python 3 (ipykernel)",
   "language": "python",
   "name": "python3"
  },
  "language_info": {
   "codemirror_mode": {
    "name": "ipython",
    "version": 3
   },
   "file_extension": ".py",
   "mimetype": "text/x-python",
   "name": "python",
   "nbconvert_exporter": "python",
   "pygments_lexer": "ipython3",
   "version": "3.10.10"
  }
 },
 "nbformat": 4,
 "nbformat_minor": 5
}
